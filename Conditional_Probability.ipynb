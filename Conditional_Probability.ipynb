{
  "nbformat": 4,
  "nbformat_minor": 0,
  "metadata": {
    "colab": {
      "provenance": []
    },
    "kernelspec": {
      "name": "python3",
      "display_name": "Python 3"
    },
    "language_info": {
      "name": "python"
    }
  },
  "cells": [
    {
      "cell_type": "markdown",
      "source": [
        "## Koşullu Olasılık\n",
        "\n",
        "### Koşullu Olasılık Nedir?\n",
        "\n",
        "Koşullu olasılık, bir olayın olma olasılığının, başka bir olayın gerçekleşmiş olduğu bilindiğinde hesaplanmasıdır. Matematiksel olarak, $A$ ve $B$ iki olay olsun. $B$ olayının gerçekleşmiş olduğu bilindiğinde $A$ olayının gerçekleşme olasılığı, $P(A \\mid B)$ şeklinde ifade edilir. Bu, $B$ gerçekleştiğinde $A$'nın olasılığı anlamına gelir ve şu formülle hesaplanır:\n",
        "\n",
        "$$\n",
        "P(A \\mid B) = \\frac{P(A \\cap B)}{P(B)}\n",
        "$$\n",
        "\n",
        "Burada, $P(A \\cap B)$, $A$ ve $B$ olaylarının her ikisinin de gerçekleşme olasılığıdır.\n",
        "\n",
        "### Soru:\n",
        "\n",
        "Bir üniversitenin Bilgisayar Mühendisliği bölümünde toplam 300 öğrenci bulunmaktadır. Bu öğrencilerin üç farklı dersi (Matematik, Fizik ve Kimya) alma ve bu derslerden geçme durumları şu şekildedir:\n",
        "\n",
        "- 90 öğrenci hem Matematik hem de Fizik derslerinden geçmiştir.\n",
        "- 80 öğrenci hem Matematik hem de Kimya derslerinden geçmiştir.\n",
        "- 70 öğrenci hem Fizik hem de Kimya derslerinden geçmiştir.\n",
        "- 50 öğrenci üç dersin hepsinden geçmiştir.\n",
        "\n",
        "Bir öğrenci rastgele seçildiğinde, aşağıdaki olasılıkları hesaplayınız:\n",
        "\n",
        "1. Matematik dersinden geçen bir öğrencinin Fizik dersinden de geçmiş olma olasılığı nedir?\n",
        "2. Matematik ve Fizik derslerinden geçen bir öğrencinin Kimya dersinden de geçmiş olma olasılığı nedir?\n",
        "\n",
        "### Matematiksel Çözüm:\n",
        "\n",
        "#### 1. Matematik dersinden geçen bir öğrencinin Fizik dersinden de geçmiş olma olasılığı\n",
        "\n",
        "İlk olarak Matematik dersinden geçen öğrenci sayısını bulmamız gerekiyor:\n",
        "\n",
        "Matematik dersinden geçen öğrenciler, hem Matematik hem de Fizik derslerinden geçen öğrenciler ile hem Matematik hem de Kimya derslerinden geçen öğrenciler toplamından, üç dersin hepsinden geçen öğrenci sayısını çıkararak bulunur. Bu hesaplama şöyledir:\n",
        "\n",
        "$$\n",
        "n_M = 90 \\ (\\text{hem Matematik hem Fizik geçen}) + 80 \\ (\\text{hem Matematik hem Kimya geçen}) - 50 \\ (\\text{üç dersi de geçen}) = 120\n",
        "$$\n",
        "\n",
        "Matematik dersinden geçen bir öğrencinin Fizik dersinden de geçmiş olma olasılığı, hem Matematik hem de Fizik derslerinden geçen öğrenci sayısının, sadece Matematik dersinden geçen öğrenci sayısına oranıdır.\n",
        "\n",
        "Bu oran:\n",
        "\n",
        "$$\n",
        "P(F \\mid M) = \\frac{90 \\ (\\text{hem Matematik hem Fizik geçen})}{120 \\ (\\text{Matematik geçen})} = 0.75\n",
        "$$\n",
        "\n",
        "Bu da demektir ki, Matematik dersinden geçen bir öğrencinin Fizik dersinden de geçmiş olma olasılığı %75'dir.\n",
        "\n",
        "#### 2. Matematik ve Fizik derslerinden geçen bir öğrencinin Kimya dersinden de geçmiş olma olasılığı\n",
        "\n",
        "Matematik ve Fizik derslerinden geçen öğrenci sayısı doğrudan verilmiştir ve 90'dır.\n",
        "\n",
        "Matematik ve Fizik derslerinden geçen bir öğrencinin Kimya dersinden de geçmiş olma olasılığı, üç dersin hepsinden geçen öğrenci sayısının, Matematik ve Fizik derslerinden geçen öğrenci sayısına oranıdır.\n",
        "\n",
        "Bu oran:\n",
        "\n",
        "$$\n",
        "P(K \\mid M \\cap F) = \\frac{50 \\ (\\text{üç dersi de geçen})}{90 \\ (\\text{hem Matematik hem Fizik geçen})} \\approx 0.556\n",
        "$$\n",
        "\n",
        "Bu da demektir ki, Matematik ve Fizik derslerinden geçen bir öğrencinin Kimya dersinden de geçmiş olma olasılığı yaklaşık %55.6'dır.\n",
        "\n"
      ],
      "metadata": {
        "id": "9vhHzj9m9pwF"
      }
    },
    {
      "cell_type": "markdown",
      "source": [
        "### Çözüm:\n",
        "\n",
        "### Python Kodu\n",
        "\n",
        "Bu soruların çözümü için Python kullanarak hesaplamaları yapacağız.\n",
        "\n",
        "\n"
      ],
      "metadata": {
        "id": "RuVoaUvv3e2T"
      }
    },
    {
      "cell_type": "code",
      "source": [
        "def calculate_probability(event_A_and_B, event_B, total_students):\n",
        "    \"\"\"\n",
        "    Belirli bir koşula bağlı olasılığı hesaplar.\n",
        "\n",
        "    Parameters:\n",
        "    - event_A_and_B: Her iki olayın gerçekleştiği öğrenci sayısı (örn. hem Matematik hem Fizik)\n",
        "    - event_B: Koşulun gerçekleştiği öğrenci sayısı (örn. Matematikten geçen)\n",
        "    - total_students: Toplam öğrenci sayısı\n",
        "\n",
        "    Returns:\n",
        "    - float: Hesaplanan olasılık değeri\n",
        "    \"\"\"\n",
        "    P_B = event_B / total_students\n",
        "    P_A_and_B = event_A_and_B / total_students\n",
        "    P_A_given_B = P_A_and_B / P_B\n",
        "    return P_A_given_B\n",
        "\n",
        "def main():\n",
        "    # Toplam öğrenci sayısı\n",
        "    total_students = 300\n",
        "\n",
        "    # Geçen öğrencilerin sayıları\n",
        "    math_and_physics_students = 90\n",
        "    math_and_chemistry_students = 80\n",
        "    physics_and_chemistry_students = 70\n",
        "    all_three_students = 50\n",
        "\n",
        "    # Matematik dersinden geçen öğrenci sayısı\n",
        "    math_students = math_and_physics_students + math_and_chemistry_students - all_three_students\n",
        "\n",
        "    # 1. Matematik dersinden geçen bir öğrencinin Fizik dersinden de geçmiş olma olasılığı\n",
        "    prob_physics_given_math = calculate_probability(math_and_physics_students, math_students, total_students)\n",
        "    print(f\"Matematik dersinden geçen bir öğrencinin Fizik dersinden de geçmiş olma olasılığı: {prob_physics_given_math:.4f}\")\n",
        "\n",
        "    # 2. Matematik ve Fizik derslerinden geçen bir öğrencinin Kimya dersinden de geçmiş olma olasılığı\n",
        "    prob_chemistry_given_math_and_physics = calculate_probability(all_three_students, math_and_physics_students, total_students)\n",
        "    print(f\"Matematik ve Fizik derslerinden geçen bir öğrencinin Kimya dersinden de geçmiş olma olasılığı: {prob_chemistry_given_math_and_physics:.4f}\")\n",
        "\n",
        "if __name__ == \"__main__\":\n",
        "    main()\n"
      ],
      "metadata": {
        "colab": {
          "base_uri": "https://localhost:8080/"
        },
        "id": "6LydpJ0y3fzd",
        "outputId": "0ab79271-29d4-4f17-81ae-acbaa8e40bd1"
      },
      "execution_count": null,
      "outputs": [
        {
          "output_type": "stream",
          "name": "stdout",
          "text": [
            "Matematik dersinden geçen bir öğrencinin Fizik dersinden de geçmiş olma olasılığı: 0.7500\n",
            "Matematik ve Fizik derslerinden geçen bir öğrencinin Kimya dersinden de geçmiş olma olasılığı: 0.5556\n"
          ]
        }
      ]
    }
  ]
}