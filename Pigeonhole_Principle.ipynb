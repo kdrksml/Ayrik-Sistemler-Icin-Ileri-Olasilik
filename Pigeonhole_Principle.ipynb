{
  "nbformat": 4,
  "nbformat_minor": 0,
  "metadata": {
    "colab": {
      "provenance": []
    },
    "kernelspec": {
      "name": "python3",
      "display_name": "Python 3"
    },
    "language_info": {
      "name": "python"
    }
  },
  "cells": [
    {
      "cell_type": "markdown",
      "source": [
        "### Matematikte “güvercin yuvası ilkesi” olarak bilinen önerme daha genel olarak şöyle ifade edilir: “N” adet güvercin “k” farklı yuvaya yerleştirildiğinde [(N/k)’nin bir tam sayı olmadığı durumda], en az bir yuvada (N/k) değerinden daha fazla güvercin bulunur."
      ],
      "metadata": {
        "id": "iju_QUHuCIQP"
      }
    },
    {
      "cell_type": "markdown",
      "source": [
        "### Bir sınıfta beş farklı not verilmektedir: A, B, C, D, E. Örneğimizde dört öğrencinin aynı notu alabilmesi için gereken minimum öğrenci sayısını hesaplayacağız. Bu problemi çözmek için güvercin yasasını kullanacağız.\n",
        "\n",
        "### Beş farklı nottan dört öğrenciye not vermek gerekmektedir. Hesaplama sonucunda, dört öğrencinin aynı notu alması için gereken minimum öğrenci sayısının 16 olduğunu bulacağız."
      ],
      "metadata": {
        "id": "fT0lBHR0Fvg0"
      }
    },
    {
      "cell_type": "markdown",
      "source": [
        "### Hesaplama adımları şu şekildedir:\n",
        "\n",
        "\n",
        "\n",
        "\n",
        "*   Not sayısı (n)=4 (A, B, C, D)\n",
        "*   Aynı notu alan öğrenci sayısı (m):  =5\n",
        "\n",
        "\n",
        "### Minimum öğrenci sayısı için güvercin yasası formülü:\n",
        " Minimum öğrenci sayısı =m ×(n−1)+1 şeklindedir.\n",
        "\n"
      ],
      "metadata": {
        "id": "nbJe7BqhGNe_"
      }
    },
    {
      "cell_type": "code",
      "execution_count": 24,
      "metadata": {
        "colab": {
          "base_uri": "https://localhost:8080/"
        },
        "id": "J8LNiWgY53sG",
        "outputId": "b0c224ef-408f-426d-8ac3-d4ff085e8e35"
      },
      "outputs": [
        {
          "output_type": "stream",
          "name": "stdout",
          "text": [
            "Öğrenci Listesi:\n",
            "Öğrenci 1: D\n",
            "Öğrenci 2: D\n",
            "Öğrenci 3: C\n",
            "Öğrenci 4: C\n",
            "Öğrenci 5: B\n",
            "Öğrenci 6: F\n",
            "Öğrenci 7: C\n",
            "Öğrenci 8: F\n",
            "Öğrenci 9: C\n",
            "Öğrenci 10: F\n",
            "Öğrenci 11: F\n",
            "Öğrenci 12: C\n",
            "Öğrenci 13: A\n",
            "Öğrenci 14: B\n",
            "Öğrenci 15: A\n",
            "Öğrenci 16: D\n",
            "\n",
            "Dört öğrencinin aynı notu alması için gereken minimum öğrenci sayısı: 16\n"
          ]
        }
      ],
      "source": [
        "import random\n",
        "\n",
        "def minimum_ogrenci_sayisi(not_sayisi, ayni_not_sayisi):\n",
        "    # Güvercin yasasına göre minimum öğrenci sayısını hesapla\n",
        "    return not_sayisi * (ayni_not_sayisi - 1) + 1\n",
        "\n",
        "# Notlar\n",
        "notlar = ['A', 'B', 'C', 'D', 'F']\n",
        "# Dört öğrencinin aynı notu alması için gereken minimum öğrenci sayısını hesapla\n",
        "minimum_ogrenci = minimum_ogrenci_sayisi(len(notlar), 4)\n",
        "\n",
        "# Öğrenci adları\n",
        "ogrenci_adlari = ['Öğrenci ' + str(i) for i in range(1, 17)]\n",
        "\n",
        "# Öğrencilere not atama\n",
        "ogrenciler = [(ogrenci_adi, random.choice(notlar)) for ogrenci_adi in ogrenci_adlari]\n",
        "\n",
        "# Öğrenci listesini yazdır\n",
        "print(\"Öğrenci Listesi:\")\n",
        "for ogrenci_adi, notu in ogrenciler:\n",
        "    print(f\"{ogrenci_adi}: {notu}\")\n",
        "\n",
        "print(\"\\nDört öğrencinin aynı notu alması için gereken minimum öğrenci sayısı:\", minimum_ogrenci)\n"
      ]
    }
  ]
}