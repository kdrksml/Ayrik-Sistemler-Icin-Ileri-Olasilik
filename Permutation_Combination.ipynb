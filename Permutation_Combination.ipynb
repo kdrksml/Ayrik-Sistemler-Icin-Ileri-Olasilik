{
  "nbformat": 4,
  "nbformat_minor": 0,
  "metadata": {
    "colab": {
      "provenance": []
    },
    "kernelspec": {
      "name": "python3",
      "display_name": "Python 3"
    },
    "language_info": {
      "name": "python"
    }
  },
  "cells": [
    {
      "cell_type": "markdown",
      "source": [
        "# **Permütasyon**"
      ],
      "metadata": {
        "id": "4ABtPEy5YoPn"
      }
    },
    {
      "cell_type": "markdown",
      "source": [
        "## 2233444 sayısının rakamları yer değiştirilerek kaç farklı yedi basamaklı sayı yazılır ?"
      ],
      "metadata": {
        "id": "FGzwYGnlVPza"
      }
    },
    {
      "cell_type": "markdown",
      "source": [
        "2233444 sayısının rakamları yer değiştirilerek oluşturulabilecek farklı yedi basamaklı sayıların sayısını bulmak için her bir rakamın kaç defa tekrarlandığını hesaplamalıyız:\n",
        "\n",
        "2 rakamı 2 kez tekrarlanıyor.\n",
        "\n",
        "3 rakamı 2 kez tekrarlanıyor.\n",
        "\n",
        "4 rakamı 3 kez tekrarlanıyor.\n",
        "\n",
        "\n",
        "Bir sayının farklı sıralanmış permütasyonlarını hesaplarken, tekrarlanan rakamların faktöriyelini hesaplamalı ve bu faktöriyelleri çarpmalıyız.\n",
        "\n",
        "\n",
        "Yani, toplam permütasyon sayısı:\n",
        "$$\\frac{7!}{2! \\times 2! \\times 3!}$$\n",
        "\n",
        "\n",
        "\n",
        "---\n",
        "\n",
        "\n",
        "\n",
        "\n",
        "Bu matematiksel formülasyonu Python'da aşağıdaki gibi uygulayabiliriz:"
      ],
      "metadata": {
        "id": "C_8ErDYhVjpc"
      }
    },
    {
      "cell_type": "code",
      "execution_count": 10,
      "metadata": {
        "colab": {
          "base_uri": "https://localhost:8080/"
        },
        "id": "b6mXshNXUD5W",
        "outputId": "c3ce0260-5d2d-4a01-f96c-0d79ae09e549"
      },
      "outputs": [
        {
          "output_type": "stream",
          "name": "stdout",
          "text": [
            "Toplam farklı yedi basamaklı sayı: 210\n"
          ]
        }
      ],
      "source": [
        "from math import factorial\n",
        "\n",
        "def find_permutations(rakamlar):\n",
        "    # Tekrarlanan rakamları say\n",
        "    counts = {rakam: rakamlar.count(rakam) for rakam in set(rakamlar)}\n",
        "\n",
        "    # Faktöriyelleri hesapla\n",
        "    denominator = 1\n",
        "    for count in counts.values():\n",
        "        denominator *= factorial(count)\n",
        "\n",
        "    # Permütasyon sayısını hesapla\n",
        "    permutations = factorial(len(rakamlar)) // denominator\n",
        "\n",
        "    return permutations\n",
        "\n",
        "rakamlar = ['2', '2', '3', '3', '4', '4', '4']  # Örnek olarak farklı bir rakam listesi\n",
        "print(\"Toplam farklı yedi basamaklı sayı:\", find_permutations(rakamlar))\n",
        "\n"
      ]
    },
    {
      "cell_type": "markdown",
      "source": [
        "# **Kombinasyon**"
      ],
      "metadata": {
        "id": "2Ro9GdfsYv0q"
      }
    },
    {
      "cell_type": "markdown",
      "source": [
        "## Bir kitap kulübünde 12 farklı roman ve 8 farklı klasik kitap bulunmaktadır. Kulüp, 3 kişilik bir okuma grubu oluşturmak istiyor ve her bir okuma grubunda en az bir klasik kitabın olmasını istiyor. Kaç farklı şekilde bu okuma grupları oluşturulabilir?"
      ],
      "metadata": {
        "id": "yEzmI4W0Yzas"
      }
    },
    {
      "cell_type": "markdown",
      "source": [
        "Öncelikle, en az bir klasik kitabın bulunması gerektiğini unutmayalım.\n",
        "\n",
        "Birinci okuma grubundaki klasik kitap seçenekleri: 8\n",
        "İkinci okuma grubundaki klasik kitap seçenekleri: 7 (çünkü birinci grupta seçilen bir klasik kitabı ikinci grupta seçemeyiz)\n",
        "Üçüncü okuma grubundaki klasik kitap seçenekleri: 6 (çünkü birinci ve ikinci grupta seçilen klasik kitapları üçüncü grupta seçemeyiz)\n",
        "Şimdi, her bir gruptaki diğer roman kitaplarını seçelim:\n",
        "\n",
        "Birinci okuma grubundaki roman kitap seçenekleri: 12\n",
        "İkinci okuma grubundaki roman kitap seçenekleri: 11\n",
        "Üçüncü okuma grubundaki roman kitap seçenekleri: 10\n",
        "Son olarak, toplam kombinasyon sayısını bulmak için bu sayıları çarparız:\n",
        "\n",
        "Toplam kombinasyon sayısı = (Klasik kitap seçenekleri) * (Roman kitap seçenekleri)\n",
        "\n",
        "Toplam kombinasyon sayısı = (8 * 12) * (7 * 11) * (6 * 10)\n",
        "\n",
        "Şimdi bu matematiksel ifadeyi çözebiliriz.\n",
        "\n",
        "Python kodunu yazalım:"
      ],
      "metadata": {
        "id": "sHznIx4VZJRK"
      }
    },
    {
      "cell_type": "code",
      "source": [
        "def kombinasyon_hesapla(klasik_kitaplar, roman_kitaplar):\n",
        "    # İlk okuma grubu için kombinasyon sayısı\n",
        "    ilk_grup_kombinasyon = klasik_kitaplar * roman_kitaplar\n",
        "\n",
        "    # İkinci okuma grubu için kombinasyon sayısı\n",
        "    ikinci_grup_kombinasyon = (klasik_kitaplar - 1) * (roman_kitaplar - 1)\n",
        "\n",
        "    # Üçüncü okuma grubu için kombinasyon sayısı\n",
        "    ucuncu_grup_kombinasyon = (klasik_kitaplar - 2) * (roman_kitaplar - 2)\n",
        "\n",
        "    # Toplam kombinasyon sayısı\n",
        "    toplam_kombinasyon = ilk_grup_kombinasyon * ikinci_grup_kombinasyon * ucuncu_grup_kombinasyon\n",
        "\n",
        "    return toplam_kombinasyon\n",
        "\n",
        "# Klasik ve roman kitap sayıları\n",
        "klasik_kitaplar = 8\n",
        "roman_kitaplar = 12\n",
        "\n",
        "# Kombinasyonları hesapla\n",
        "toplam_kombinasyon = kombinasyon_hesapla(klasik_kitaplar, roman_kitaplar)\n",
        "print(\"Toplam kombinasyon sayısı:\", toplam_kombinasyon)\n"
      ],
      "metadata": {
        "colab": {
          "base_uri": "https://localhost:8080/"
        },
        "id": "1Mbo-h-2ZTab",
        "outputId": "af4009b6-f0ce-4c19-99dc-0a6bdec74dd9"
      },
      "execution_count": 11,
      "outputs": [
        {
          "output_type": "stream",
          "name": "stdout",
          "text": [
            "Toplam kombinasyon sayısı: 443520\n"
          ]
        }
      ]
    }
  ]
}